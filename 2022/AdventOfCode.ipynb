{
 "cells": [
  {
   "cell_type": "markdown",
   "metadata": {},
   "source": [
    "# Advent of Code"
   ]
  },
  {
   "cell_type": "markdown",
   "metadata": {},
   "source": [
    "## Day 1\n",
    "\n",
    "Find the top three Elves carrying the most Calories. How many Calories are those Elves carrying in total?"
   ]
  },
  {
   "cell_type": "code",
   "execution_count": null,
   "metadata": {},
   "outputs": [],
   "source": [
    "from itertools import groupby\n",
    "\n",
    "topk = 3\n",
    "\n",
    "with open(\"data/day1.txt\", \"r\") as f:\n",
    "    data = [l.strip() for l in f.readlines()]\n",
    "    \n",
    "sum(sorted(sum(map(int, v)) for k, v in groupby(data, key=lambda l: l != '') if k)[-topk:])"
   ]
  },
  {
   "cell_type": "markdown",
   "metadata": {},
   "source": [
    "## Day 2\n",
    "\n",
    "What would your total score be if everything goes exactly according to your strategy guide?"
   ]
  },
  {
   "cell_type": "code",
   "execution_count": null,
   "metadata": {},
   "outputs": [],
   "source": [
    "with open(\"data/day2.txt\", \"r\") as f:\n",
    "    data = [l.strip().split(' ') for l in f.readlines()]\n",
    "\n",
    "first_col = {k: v for v, k in enumerate('ABC')}\n",
    "second_col = {k: v for v, k in enumerate('XYZ')}\n",
    "mapping = list(map(lambda x: (first_col[x[0]], second_col[x[1]]), data))\n",
    "\n",
    "shape_points = map(lambda x: 1 + x[1], mapping)\n",
    "outcome_points = map(lambda y : 3 * (y + 1), [v if abs(v) != 2 else -v // 2 for v in map(lambda x: x[1] - x[0], mapping)])\n",
    "sum(shape_points) + sum(outcome_points)"
   ]
  },
  {
   "cell_type": "code",
   "execution_count": null,
   "metadata": {},
   "outputs": [],
   "source": [
    "shape_points = map(lambda x: 1 + ((x[0] + x[1] - 1) % 3), mapping)\n",
    "outcome_points = map(lambda x: 3 * second_col[x[1]], data)\n",
    "sum(shape_points) + sum(outcome_points)"
   ]
  },
  {
   "cell_type": "markdown",
   "metadata": {},
   "source": [
    "## Day 3\n",
    "\n",
    "Find the item type that appears in both compartments of each rucksack. What is the sum of the priorities of those item types?"
   ]
  },
  {
   "cell_type": "code",
   "execution_count": null,
   "metadata": {},
   "outputs": [],
   "source": [
    "import string\n",
    "\n",
    "with open(\"data/day3.txt\", \"r\") as f:\n",
    "    data = [l.strip() for l in f.readlines()]\n",
    "\n",
    "mapping = {k: v for v, k in enumerate(string.ascii_letters, 1)}\n",
    "\n",
    "def get_priorities(string):\n",
    "    split = len(string) // 2\n",
    "    a, b = string[:split], string[split:]\n",
    "    return sum(mapping[item] for item in set(a).intersection(b))\n",
    "\n",
    "priorities = map(get_priorities, data)\n",
    "sum(priorities)"
   ]
  },
  {
   "cell_type": "code",
   "execution_count": null,
   "metadata": {},
   "outputs": [],
   "source": [
    "def get_priorities(triplet):\n",
    "    a, b, c = triplet\n",
    "    return sum(mapping[item] for item in set(a).intersection(b).intersection(c))\n",
    "\n",
    "data_groups = zip(*(iter(data),) * 3)\n",
    "\n",
    "priorities = map(get_priorities, data_groups)\n",
    "sum(priorities)"
   ]
  },
  {
   "cell_type": "markdown",
   "metadata": {},
   "source": [
    "## Day 4\n",
    "\n",
    "In how many assignment pairs does one range fully contain the other?"
   ]
  },
  {
   "cell_type": "code",
   "execution_count": null,
   "metadata": {},
   "outputs": [],
   "source": [
    "with open(\"data/day4.txt\", \"r\") as f:\n",
    "    data = [list(map(lambda x: x.split('-'), l.strip().split(','))) for l in f.readlines()]\n",
    "\n",
    "def fully_overlap(a, b):\n",
    "    return (int(a[0]) < int(b[0])) ^ (int(a[1]) < int(b[1])) or a[0] == b[0] or a[1] == b[1]\n",
    "    \n",
    "sum(fully_overlap(a, b) for a, b in data)"
   ]
  },
  {
   "cell_type": "code",
   "execution_count": null,
   "metadata": {},
   "outputs": [],
   "source": [
    "def overlap(a, b):\n",
    "    return (int(a[0]) <= int(b[1])) and (int(a[1]) >= int(b[0]))\n",
    "    \n",
    "sum(overlap(a, b) for a, b in data)"
   ]
  },
  {
   "cell_type": "markdown",
   "metadata": {},
   "source": [
    "## Day 5\n",
    "\n",
    "After the rearrangement procedure completes, what crate ends up on top of each stack?"
   ]
  },
  {
   "cell_type": "code",
   "execution_count": null,
   "metadata": {},
   "outputs": [],
   "source": [
    "with open(\"data/day5.txt\", \"r\") as f:\n",
    "    stacks = list(reversed([next(f).strip('\\n') for _ in range(8)]))\n",
    "    stacks_cpy = {k+1: [line[4*k+1] for line in stacks if line[4*k+1] != ' '] for k in range(9)}\n",
    "    for _ in range(2):\n",
    "        next(f)\n",
    "    instructions = [dict(zip(*(iter(l.strip().split()),) * 2)) for l in f.readlines()]\n",
    "\n",
    "for instr in instructions:\n",
    "    for _ in range(int(instr['move'])):\n",
    "        stacks_cpy[int(instr['to'])].append(stacks_cpy[int(instr['from'])].pop())\n",
    "        \n",
    "''.join(v[-1] for v in stacks_cpy.values())"
   ]
  },
  {
   "cell_type": "code",
   "execution_count": null,
   "metadata": {},
   "outputs": [],
   "source": [
    "stacks_cpy = {k+1: [line[4*k+1] for line in stacks if line[4*k+1] != ' '] for k in range(9)}\n",
    "\n",
    "for instr in instructions:\n",
    "    pack = list(reversed([stacks_cpy[int(instr['from'])].pop() for _ in range(int(instr['move']))]))\n",
    "    stacks_cpy[int(instr['to'])].extend(pack)\n",
    "    \n",
    "''.join(v[-1] for v in stacks_cpy.values())"
   ]
  },
  {
   "cell_type": "markdown",
   "metadata": {},
   "source": [
    "## Day 6\n",
    "\n",
    "How many characters need to be processed before the first start-of-packet marker is detected?"
   ]
  },
  {
   "cell_type": "code",
   "execution_count": null,
   "metadata": {},
   "outputs": [],
   "source": [
    "with open(\"data/day6.txt\", \"r\") as f:\n",
    "    data = next(f).strip()\n",
    "\n",
    "[len(set(data[i-4:i])) for i in range(len(data))].index(4)"
   ]
  },
  {
   "cell_type": "code",
   "execution_count": null,
   "metadata": {},
   "outputs": [],
   "source": [
    "[len(set(data[i-14:i])) for i in range(len(data))].index(14)"
   ]
  },
  {
   "cell_type": "markdown",
   "metadata": {},
   "source": [
    "## Day 7\n",
    "\n",
    "Find all of the directories with a total size of at most 100000. What is the sum of the total sizes of those directories?"
   ]
  },
  {
   "cell_type": "code",
   "execution_count": null,
   "metadata": {},
   "outputs": [],
   "source": [
    "from collections import defaultdict\n",
    "\n",
    "with open(\"data/day7.txt\", \"r\") as f:\n",
    "    data = [line.strip().split() for line in f]\n",
    "    \n",
    "system = defaultdict(int)\n",
    "\n",
    "for line in data:\n",
    "    if line[0] == '$':\n",
    "        if line[1] == 'cd':\n",
    "            if line[2] == '/':\n",
    "                current = ['.']\n",
    "            elif line[2] == '..':\n",
    "                current = current[:-1]\n",
    "            else:\n",
    "                current.append(line[2])\n",
    "    if line[0].isdigit():\n",
    "        for i, _ in enumerate(current, 1):\n",
    "            system['/'.join(current[:i])] += int(line[0])\n",
    "            \n",
    "sum(v for v in system.values() if v < 100000)"
   ]
  },
  {
   "cell_type": "code",
   "execution_count": null,
   "metadata": {},
   "outputs": [],
   "source": [
    "needed = system['.'] - 40000000\n",
    "min(v for v in system.values() if v >= needed)"
   ]
  },
  {
   "cell_type": "markdown",
   "metadata": {},
   "source": [
    "## Day 8\n",
    "\n",
    "Consider your map; how many trees are visible from outside the grid?"
   ]
  },
  {
   "cell_type": "code",
   "execution_count": null,
   "metadata": {},
   "outputs": [],
   "source": [
    "import numpy as np\n",
    "\n",
    "data = np.genfromtxt(\"data/day8.txt\", delimiter=1)\n",
    "\n",
    "up = np.diff(np.maximum.accumulate(data, axis=0), prepend=-1, axis=0)\n",
    "down = np.flip(np.diff(np.maximum.accumulate(np.flip(data, axis=0), axis=0), prepend=-1, axis=0), axis=0)\n",
    "left = np.diff(np.maximum.accumulate(data, axis=1), prepend=-1, axis=1)\n",
    "right = np.flip(np.diff(np.maximum.accumulate(np.flip(data, axis=1), axis=1), prepend=-1, axis=1), axis=1)\n",
    "\n",
    "np.sum(np.logical_or.reduce([up, down, left, right]))"
   ]
  },
  {
   "cell_type": "code",
   "execution_count": null,
   "metadata": {},
   "outputs": [],
   "source": [
    "def vision_(x):\n",
    "    ahead = np.minimum.accumulate(x[1:] < x[0], axis=0)\n",
    "    return ahead.sum(axis=0) + (~ahead).any(axis=0)\n",
    "\n",
    "vision = lambda x: np.array([vision_(x[i:]) for i in range(0, x.shape[0])])\n",
    "\n",
    "up = vision(data)\n",
    "down = np.flip(vision(np.flip(data, axis=0)), axis=0)\n",
    "left = vision(data.T).T\n",
    "right = np.flip(vision(np.flip(data, axis=1).T).T, axis=1)\n",
    "\n",
    "np.max(up * down * left * right)"
   ]
  },
  {
   "cell_type": "markdown",
   "metadata": {},
   "source": [
    "## Day 9\n",
    "\n",
    "Simulate your complete hypothetical series of motions. How many positions does the tail of the rope visit at least once?"
   ]
  },
  {
   "cell_type": "code",
   "execution_count": null,
   "metadata": {},
   "outputs": [],
   "source": [
    "import numpy as np\n",
    "\n",
    "with open(\"data/day9.txt\", \"r\") as f:\n",
    "    data = [line.strip().split(' ') for line in f]\n",
    "    \n",
    "k = 2 # Number of knots (set to 10 for part 2)\n",
    "\n",
    "current = np.zeros((k, 2))\n",
    "visited = []\n",
    "\n",
    "move = {'R': np.array([0, 1]), 'L': np.array([0, -1]), 'U': np.array([1, 0]), 'D': np.array([-1, 0])}\n",
    "\n",
    "for line in data:\n",
    "    for _ in range(int(line[1])):\n",
    "        current[0] += move[line[0]]\n",
    "        head = current[0]\n",
    "        for i in range(1, len(current)):\n",
    "            d = head - current[i]\n",
    "            current[i] += (np.sum(d**2) > 3) * np.sign(d)\n",
    "            head = current[i]\n",
    "        visited.append(tuple(head))\n",
    "\n",
    "len(set(visited))"
   ]
  },
  {
   "cell_type": "markdown",
   "metadata": {},
   "source": [
    "## Day 10\n",
    "\n",
    "Render the image given by your program. What eight capital letters appear on your CRT?"
   ]
  },
  {
   "cell_type": "code",
   "execution_count": null,
   "metadata": {},
   "outputs": [],
   "source": [
    "with open(\"data/day10.txt\", \"r\") as f:\n",
    "    data = [line.strip() for line in f]\n",
    "    \n",
    "X = [1]\n",
    "for line in data[:-1]:\n",
    "    if line ==  'noop':\n",
    "        X.append(X[-1])\n",
    "    else:\n",
    "        _, val = line.split()\n",
    "        X.append(X[-1])\n",
    "        X.append(X[-1] + int(val))\n",
    "\n",
    "sum(i * X[i-1] for i in range(20, 260, 40))"
   ]
  },
  {
   "cell_type": "code",
   "execution_count": null,
   "metadata": {},
   "outputs": [],
   "source": [
    "pprint(list(map(lambda x: ''.join(x),\n",
    "    zip(*(iter('#' if 0 <= 1 + val - (i % 40) < 3 else '.' for i, val in enumerate(X)),) * 40)\n",
    ")))"
   ]
  },
  {
   "cell_type": "markdown",
   "metadata": {},
   "source": [
    "## Day 11\n",
    "\n",
    "Figure out which monkeys to chase by counting how many items they inspect over 20 rounds. What is the level of monkey business after 20 rounds of stuff-slinging simian shenanigans?"
   ]
  },
  {
   "cell_type": "code",
   "execution_count": 25,
   "metadata": {
    "scrolled": false
   },
   "outputs": [
    {
     "data": {
      "text/plain": [
       "76728"
      ]
     },
     "execution_count": 25,
     "metadata": {},
     "output_type": "execute_result"
    }
   ],
   "source": [
    "import re\n",
    "from math import prod\n",
    "\n",
    "with open(\"data/day11.txt\", \"r\") as f:\n",
    "    data = [line.strip() for line in f]\n",
    "\n",
    "class Monkey:\n",
    "    def __init__(self, mokey_id, items, operation, test, true, false):\n",
    "        self.items = list(map(int, re.findall('[0-9]+', items)))\n",
    "        self.operation = '(' + re.search('old(.*)', operation)[0] + ')'\n",
    "        self.test = int(re.search('[0-9]+', test)[0])\n",
    "        self.true = int(re.search('[0-9]+', true)[0])\n",
    "        self.false = int(re.search('[0-9]+', false)[0])\n",
    "        \n",
    "    def inspect(self, relief_op):\n",
    "        items = [eval(self.operation + relief_op) for old in self.items]\n",
    "        where = [self.true if (item % self.test) == 0 else self.false for item in items]\n",
    "        self.items = []\n",
    "        return items, where\n",
    "    \n",
    "monkeys = [Monkey(*monkey) for monkey in zip(*(iter(d for d in data if len(d)),) * 6)]\n",
    "\n",
    "activity = [0 for _ in monkeys]\n",
    "for i in range(20):\n",
    "    for j, m in enumerate(monkeys):\n",
    "        items, where = m.inspect('//3')\n",
    "        activity[j] += len(items)\n",
    "        for item, to in zip(items, where):\n",
    "            monkeys[to].items.append(item)\n",
    "            \n",
    "prod(sorted(activity)[-2:])"
   ]
  },
  {
   "cell_type": "code",
   "execution_count": 26,
   "metadata": {
    "scrolled": true
   },
   "outputs": [
    {
     "data": {
      "text/plain": [
       "21553910156"
      ]
     },
     "execution_count": 26,
     "metadata": {},
     "output_type": "execute_result"
    }
   ],
   "source": [
    "monkeys = [Monkey(*monkey) for monkey in zip(*(iter(d for d in data if len(d)),) * 6)]\n",
    "\n",
    "relief = str(prod(m.test for m in monkeys))\n",
    "\n",
    "activity = [0 for _ in monkeys]\n",
    "for i in range(10000):\n",
    "    for j, m in enumerate(monkeys):\n",
    "        items, where = m.inspect('%' + relief)\n",
    "        activity[j] += len(items)\n",
    "        for item, to in zip(items, where):\n",
    "            monkeys[to].items.append(item)\n",
    "            \n",
    "prod(sorted(activity)[-2:])"
   ]
  },
  {
   "cell_type": "code",
   "execution_count": null,
   "metadata": {},
   "outputs": [],
   "source": []
  }
 ],
 "metadata": {
  "kernelspec": {
   "display_name": "Python 3",
   "language": "python",
   "name": "python3"
  },
  "language_info": {
   "codemirror_mode": {
    "name": "ipython",
    "version": 3
   },
   "file_extension": ".py",
   "mimetype": "text/x-python",
   "name": "python",
   "nbconvert_exporter": "python",
   "pygments_lexer": "ipython3",
   "version": "3.8.10"
  }
 },
 "nbformat": 4,
 "nbformat_minor": 4
}
