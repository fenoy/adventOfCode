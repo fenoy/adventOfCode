{
 "cells": [
  {
   "cell_type": "markdown",
   "metadata": {},
   "source": [
    "# Advent of Code"
   ]
  },
  {
   "cell_type": "markdown",
   "metadata": {},
   "source": [
    "## Day 1\n",
    "\n",
    "Find the top three Elves carrying the most Calories. How many Calories are those Elves carrying in total?"
   ]
  },
  {
   "cell_type": "code",
   "execution_count": 1,
   "metadata": {},
   "outputs": [
    {
     "data": {
      "text/plain": [
       "212520"
      ]
     },
     "execution_count": 1,
     "metadata": {},
     "output_type": "execute_result"
    }
   ],
   "source": [
    "from itertools import groupby\n",
    "\n",
    "topk = 3\n",
    "\n",
    "with open(\"data/day1.txt\", \"r\") as f:\n",
    "    data = [l.strip() for l in f.readlines()]\n",
    "    \n",
    "sum(sorted(sum(map(int, v)) for k, v in groupby(data, key=lambda l: l != '') if k)[-topk:])"
   ]
  },
  {
   "cell_type": "markdown",
   "metadata": {},
   "source": [
    "## Day 2\n",
    "\n",
    "What would your total score be if everything goes exactly according to your strategy guide?"
   ]
  },
  {
   "cell_type": "code",
   "execution_count": 2,
   "metadata": {},
   "outputs": [
    {
     "data": {
      "text/plain": [
       "9759"
      ]
     },
     "execution_count": 2,
     "metadata": {},
     "output_type": "execute_result"
    }
   ],
   "source": [
    "with open(\"data/day2.txt\", \"r\") as f:\n",
    "    data = [l.strip().split(' ') for l in f.readlines()]\n",
    "\n",
    "first_col = {k: v for v, k in enumerate('ABC')}\n",
    "second_col = {k: v for v, k in enumerate('XYZ')}\n",
    "mapping = list(map(lambda x: (first_col[x[0]], second_col[x[1]]), data))\n",
    "\n",
    "shape_points = map(lambda x: 1 + x[1], mapping)\n",
    "outcome_points = map(lambda y : 3 * (y + 1), [v if abs(v) != 2 else -v // 2 for v in map(lambda x: x[1] - x[0], mapping)])\n",
    "sum(shape_points) + sum(outcome_points)"
   ]
  },
  {
   "cell_type": "code",
   "execution_count": 3,
   "metadata": {},
   "outputs": [
    {
     "data": {
      "text/plain": [
       "12429"
      ]
     },
     "execution_count": 3,
     "metadata": {},
     "output_type": "execute_result"
    }
   ],
   "source": [
    "shape_points = map(lambda x: 1 + ((x[0] + x[1] - 1) % 3), mapping)\n",
    "outcome_points = map(lambda x: 3 * second_col[x[1]], data)\n",
    "sum(shape_points) + sum(outcome_points)"
   ]
  },
  {
   "cell_type": "code",
   "execution_count": null,
   "metadata": {},
   "outputs": [],
   "source": []
  }
 ],
 "metadata": {
  "kernelspec": {
   "display_name": "Python 3",
   "language": "python",
   "name": "python3"
  },
  "language_info": {
   "codemirror_mode": {
    "name": "ipython",
    "version": 3
   },
   "file_extension": ".py",
   "mimetype": "text/x-python",
   "name": "python",
   "nbconvert_exporter": "python",
   "pygments_lexer": "ipython3",
   "version": "3.8.10"
  }
 },
 "nbformat": 4,
 "nbformat_minor": 4
}
