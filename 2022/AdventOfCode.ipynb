{
 "cells": [
  {
   "cell_type": "markdown",
   "metadata": {},
   "source": [
    "# Advent of Code"
   ]
  },
  {
   "cell_type": "markdown",
   "metadata": {},
   "source": [
    "## Day 1\n",
    "\n",
    "Find the top three Elves carrying the most Calories. How many Calories are those Elves carrying in total?"
   ]
  },
  {
   "cell_type": "code",
   "execution_count": 1,
   "metadata": {},
   "outputs": [
    {
     "data": {
      "text/plain": [
       "212520"
      ]
     },
     "execution_count": 1,
     "metadata": {},
     "output_type": "execute_result"
    }
   ],
   "source": [
    "from itertools import groupby\n",
    "\n",
    "topk = 3\n",
    "\n",
    "with open(\"data/day1.txt\", \"r\") as f:\n",
    "    data = [l.strip() for l in f.readlines()]\n",
    "    \n",
    "sum(sorted(sum(map(int, v)) for k, v in groupby(data, key=lambda l: l != '') if k)[-topk:])"
   ]
  },
  {
   "cell_type": "markdown",
   "metadata": {},
   "source": [
    "## Day 2\n",
    "\n",
    "What would your total score be if everything goes exactly according to your strategy guide?"
   ]
  },
  {
   "cell_type": "code",
   "execution_count": 2,
   "metadata": {},
   "outputs": [
    {
     "data": {
      "text/plain": [
       "9759"
      ]
     },
     "execution_count": 2,
     "metadata": {},
     "output_type": "execute_result"
    }
   ],
   "source": [
    "with open(\"data/day2.txt\", \"r\") as f:\n",
    "    data = [l.strip().split(' ') for l in f.readlines()]\n",
    "\n",
    "first_col = {k: v for v, k in enumerate('ABC')}\n",
    "second_col = {k: v for v, k in enumerate('XYZ')}\n",
    "mapping = list(map(lambda x: (first_col[x[0]], second_col[x[1]]), data))\n",
    "\n",
    "shape_points = map(lambda x: 1 + x[1], mapping)\n",
    "outcome_points = map(lambda y : 3 * (y + 1), [v if abs(v) != 2 else -v // 2 for v in map(lambda x: x[1] - x[0], mapping)])\n",
    "sum(shape_points) + sum(outcome_points)"
   ]
  },
  {
   "cell_type": "code",
   "execution_count": 3,
   "metadata": {},
   "outputs": [
    {
     "data": {
      "text/plain": [
       "12429"
      ]
     },
     "execution_count": 3,
     "metadata": {},
     "output_type": "execute_result"
    }
   ],
   "source": [
    "shape_points = map(lambda x: 1 + ((x[0] + x[1] - 1) % 3), mapping)\n",
    "outcome_points = map(lambda x: 3 * second_col[x[1]], data)\n",
    "sum(shape_points) + sum(outcome_points)"
   ]
  },
  {
   "cell_type": "markdown",
   "metadata": {},
   "source": [
    "## Day 3\n",
    "\n",
    "Find the item type that appears in both compartments of each rucksack. What is the sum of the priorities of those item types?"
   ]
  },
  {
   "cell_type": "code",
   "execution_count": 4,
   "metadata": {},
   "outputs": [
    {
     "data": {
      "text/plain": [
       "8139"
      ]
     },
     "execution_count": 4,
     "metadata": {},
     "output_type": "execute_result"
    }
   ],
   "source": [
    "import string\n",
    "\n",
    "with open(\"data/day3.txt\", \"r\") as f:\n",
    "    data = [l.strip() for l in f.readlines()]\n",
    "\n",
    "mapping = {k: v for v, k in enumerate(string.ascii_letters, 1)}\n",
    "\n",
    "def get_priorities(string):\n",
    "    split = len(string) // 2\n",
    "    a, b = string[:split], string[split:]\n",
    "    return sum(mapping[item] for item in set(a).intersection(b))\n",
    "\n",
    "priorities = map(get_priorities, data)\n",
    "sum(priorities)"
   ]
  },
  {
   "cell_type": "code",
   "execution_count": 5,
   "metadata": {},
   "outputs": [
    {
     "data": {
      "text/plain": [
       "2668"
      ]
     },
     "execution_count": 5,
     "metadata": {},
     "output_type": "execute_result"
    }
   ],
   "source": [
    "def get_priorities(triplet):\n",
    "    a, b, c = triplet\n",
    "    return sum(mapping[item] for item in set(a).intersection(b).intersection(c))\n",
    "\n",
    "data_groups = zip(*(iter(data),) * 3)\n",
    "\n",
    "priorities = map(get_priorities, data_groups)\n",
    "sum(priorities)"
   ]
  },
  {
   "cell_type": "markdown",
   "metadata": {},
   "source": [
    "## Day 4\n",
    "\n",
    "In how many assignment pairs does one range fully contain the other?"
   ]
  },
  {
   "cell_type": "code",
   "execution_count": 6,
   "metadata": {},
   "outputs": [
    {
     "data": {
      "text/plain": [
       "503"
      ]
     },
     "execution_count": 6,
     "metadata": {},
     "output_type": "execute_result"
    }
   ],
   "source": [
    "with open(\"data/day4.txt\", \"r\") as f:\n",
    "    data = [list(map(lambda x: x.split('-'), l.strip().split(','))) for l in f.readlines()]\n",
    "\n",
    "def fully_overlap(a, b):\n",
    "    return (int(a[0]) < int(b[0])) ^ (int(a[1]) < int(b[1])) or a[0] == b[0] or a[1] == b[1]\n",
    "    \n",
    "sum(fully_overlap(a, b) for a, b in data)"
   ]
  },
  {
   "cell_type": "code",
   "execution_count": 7,
   "metadata": {},
   "outputs": [
    {
     "data": {
      "text/plain": [
       "827"
      ]
     },
     "execution_count": 7,
     "metadata": {},
     "output_type": "execute_result"
    }
   ],
   "source": [
    "def overlap(a, b):\n",
    "    return (int(a[0]) <= int(b[1])) and (int(a[1]) >= int(b[0]))\n",
    "    \n",
    "sum(overlap(a, b) for a, b in data)"
   ]
  },
  {
   "cell_type": "markdown",
   "metadata": {},
   "source": [
    "## Day 5\n",
    "\n",
    "After the rearrangement procedure completes, what crate ends up on top of each stack?"
   ]
  },
  {
   "cell_type": "code",
   "execution_count": 8,
   "metadata": {},
   "outputs": [
    {
     "data": {
      "text/plain": [
       "'RLFNRTNFB'"
      ]
     },
     "execution_count": 8,
     "metadata": {},
     "output_type": "execute_result"
    }
   ],
   "source": [
    "with open(\"data/day5.txt\", \"r\") as f:\n",
    "    stacks = list(reversed([next(f).strip('\\n') for _ in range(8)]))\n",
    "    stacks_cpy = {k+1: [line[4*k+1] for line in stacks if line[4*k+1] != ' '] for k in range(9)}\n",
    "    for _ in range(2):\n",
    "        next(f)\n",
    "    instructions = [dict(zip(*(iter(l.strip().split()),) * 2)) for l in f.readlines()]\n",
    "\n",
    "for instr in instructions:\n",
    "    for _ in range(int(instr['move'])):\n",
    "        stacks_cpy[int(instr['to'])].append(stacks_cpy[int(instr['from'])].pop())\n",
    "        \n",
    "''.join(v[-1] for v in stacks_cpy.values())"
   ]
  },
  {
   "cell_type": "code",
   "execution_count": 9,
   "metadata": {},
   "outputs": [
    {
     "data": {
      "text/plain": [
       "'MHQTLJRLB'"
      ]
     },
     "execution_count": 9,
     "metadata": {},
     "output_type": "execute_result"
    }
   ],
   "source": [
    "stacks_cpy = {k+1: [line[4*k+1] for line in stacks if line[4*k+1] != ' '] for k in range(9)}\n",
    "\n",
    "for instr in instructions:\n",
    "    pack = list(reversed([stacks_cpy[int(instr['from'])].pop() for _ in range(int(instr['move']))]))\n",
    "    stacks_cpy[int(instr['to'])].extend(pack)\n",
    "    \n",
    "''.join(v[-1] for v in stacks_cpy.values())"
   ]
  },
  {
   "cell_type": "markdown",
   "metadata": {},
   "source": [
    "## Day 6\n",
    "\n",
    "How many characters need to be processed before the first start-of-packet marker is detected?"
   ]
  },
  {
   "cell_type": "code",
   "execution_count": 10,
   "metadata": {},
   "outputs": [
    {
     "data": {
      "text/plain": [
       "1909"
      ]
     },
     "execution_count": 10,
     "metadata": {},
     "output_type": "execute_result"
    }
   ],
   "source": [
    "with open(\"data/day6.txt\", \"r\") as f:\n",
    "    data = next(f).strip()\n",
    "\n",
    "[len(set(data[i-4:i])) for i in range(len(data))].index(4)"
   ]
  },
  {
   "cell_type": "code",
   "execution_count": 11,
   "metadata": {},
   "outputs": [
    {
     "data": {
      "text/plain": [
       "3380"
      ]
     },
     "execution_count": 11,
     "metadata": {},
     "output_type": "execute_result"
    }
   ],
   "source": [
    "[len(set(data[i-14:i])) for i in range(len(data))].index(14)"
   ]
  },
  {
   "cell_type": "markdown",
   "metadata": {},
   "source": [
    "## Day 7\n",
    "\n",
    "Find all of the directories with a total size of at most 100000. What is the sum of the total sizes of those directories?"
   ]
  },
  {
   "cell_type": "code",
   "execution_count": 12,
   "metadata": {},
   "outputs": [
    {
     "data": {
      "text/plain": [
       "1141028"
      ]
     },
     "execution_count": 12,
     "metadata": {},
     "output_type": "execute_result"
    }
   ],
   "source": [
    "from collections import defaultdict\n",
    "\n",
    "with open(\"data/day7.txt\", \"r\") as f:\n",
    "    data = [line.strip().split() for line in f]\n",
    "    \n",
    "system = defaultdict(int)\n",
    "\n",
    "for line in data:\n",
    "    if line[0] == '$':\n",
    "        if line[1] == 'cd':\n",
    "            if line[2] == '/':\n",
    "                current = ['.']\n",
    "            elif line[2] == '..':\n",
    "                current = current[:-1]\n",
    "            else:\n",
    "                current.append(line[2])\n",
    "    if line[0].isdigit():\n",
    "        for i, _ in enumerate(current, 1):\n",
    "            system['/'.join(current[:i])] += int(line[0])\n",
    "            \n",
    "sum(v for v in system.values() if v < 100000)"
   ]
  },
  {
   "cell_type": "code",
   "execution_count": 13,
   "metadata": {},
   "outputs": [
    {
     "data": {
      "text/plain": [
       "8278005"
      ]
     },
     "execution_count": 13,
     "metadata": {},
     "output_type": "execute_result"
    }
   ],
   "source": [
    "needed = system['.'] - 40000000\n",
    "min(v for v in system.values() if v >= needed)"
   ]
  },
  {
   "cell_type": "markdown",
   "metadata": {},
   "source": [
    "## Day 8\n",
    "\n",
    "Consider your map; how many trees are visible from outside the grid?"
   ]
  },
  {
   "cell_type": "code",
   "execution_count": 14,
   "metadata": {},
   "outputs": [
    {
     "data": {
      "text/plain": [
       "1816"
      ]
     },
     "execution_count": 14,
     "metadata": {},
     "output_type": "execute_result"
    }
   ],
   "source": [
    "import numpy as np\n",
    "\n",
    "data = np.genfromtxt(\"data/day8.txt\", delimiter=1)\n",
    "\n",
    "up = np.diff(np.maximum.accumulate(data, axis=0), prepend=-1, axis=0)\n",
    "down = np.flip(np.diff(np.maximum.accumulate(np.flip(data, axis=0), axis=0), prepend=-1, axis=0), axis=0)\n",
    "left = np.diff(np.maximum.accumulate(data, axis=1), prepend=-1, axis=1)\n",
    "right = np.flip(np.diff(np.maximum.accumulate(np.flip(data, axis=1), axis=1), prepend=-1, axis=1), axis=1)\n",
    "\n",
    "np.sum(np.logical_or.reduce([up, down, left, right]))"
   ]
  },
  {
   "cell_type": "code",
   "execution_count": 15,
   "metadata": {},
   "outputs": [
    {
     "data": {
      "text/plain": [
       "383520"
      ]
     },
     "execution_count": 15,
     "metadata": {},
     "output_type": "execute_result"
    }
   ],
   "source": [
    "def vision_(x):\n",
    "    ahead = np.minimum.accumulate(x[1:] < x[0], axis=0)\n",
    "    return ahead.sum(axis=0) + (~ahead).any(axis=0)\n",
    "\n",
    "vision = lambda x: np.array([vision_(x[i:]) for i in range(0, x.shape[0])])\n",
    "\n",
    "up = vision(data)\n",
    "down = np.flip(vision(np.flip(data, axis=0)), axis=0)\n",
    "left = vision(data.T).T\n",
    "right = np.flip(vision(np.flip(data, axis=1).T).T, axis=1)\n",
    "\n",
    "np.max(up * down * left * right)"
   ]
  },
  {
   "cell_type": "code",
   "execution_count": null,
   "metadata": {},
   "outputs": [],
   "source": []
  }
 ],
 "metadata": {
  "kernelspec": {
   "display_name": "Python 3",
   "language": "python",
   "name": "python3"
  },
  "language_info": {
   "codemirror_mode": {
    "name": "ipython",
    "version": 3
   },
   "file_extension": ".py",
   "mimetype": "text/x-python",
   "name": "python",
   "nbconvert_exporter": "python",
   "pygments_lexer": "ipython3",
   "version": "3.8.10"
  }
 },
 "nbformat": 4,
 "nbformat_minor": 4
}
